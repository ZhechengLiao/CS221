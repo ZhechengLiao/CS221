{
 "cells": [
  {
   "cell_type": "code",
   "execution_count": 1,
   "metadata": {},
   "outputs": [
    {
     "data": {
      "text/plain": [
       "[((7, None, (0, 1)), 0.5, 0), ((11, None, None), 0.5, 0)]"
      ]
     },
     "execution_count": 1,
     "metadata": {},
     "output_type": "execute_result"
    }
   ],
   "source": [
    "from typing import List, Callable, Tuple, Any\n",
    "import submission\n",
    "mdp1 = submission.BlackjackMDP(cardValues=[1, 5], multiplicity=2,\n",
    "                                   threshold=10, peekCost=1)\n",
    "startState = mdp1.startState()\n",
    "preBustState = (6, None, (1, 1))\n",
    "# ([((1, None, (1, 2)), 0.5, 0), ((5, None, (2, 1)), 0.5, 0)], mdp1, startState, 'Take')\n",
    "mdp1.succAndProbReward(preBustState, 'Take')"
   ]
  },
  {
   "cell_type": "code",
   "execution_count": 3,
   "metadata": {},
   "outputs": [],
   "source": [
    "mdp = submission.BlackjackMDP(cardValues=[1, 5], multiplicity=2,\n",
    "                                  threshold=10, peekCost=1)\n",
    "mdp.computeStates()\n",
    "\n",
    "rl = submission.QLearningAlgorithm(mdp.actions, mdp.discount(),\n",
    "                                       submission.blackjackFeatureExtractor,\n",
    "                                       0)\n",
    "\n",
    "rl.numIters = 1\n",
    "rl.incorporateFeedback((7, None, (0, 1)), 'Quit', 7, (7, None, None))"
   ]
  },
  {
   "cell_type": "code",
   "execution_count": null,
   "metadata": {},
   "outputs": [],
   "source": []
  }
 ],
 "metadata": {
  "kernelspec": {
   "display_name": "PyCharm (pythonProject)",
   "language": "python",
   "name": "pycharm-97c8f29"
  },
  "language_info": {
   "codemirror_mode": {
    "name": "ipython",
    "version": 3
   },
   "file_extension": ".py",
   "mimetype": "text/x-python",
   "name": "python",
   "nbconvert_exporter": "python",
   "pygments_lexer": "ipython3",
   "version": "3.9.7"
  },
  "orig_nbformat": 4
 },
 "nbformat": 4,
 "nbformat_minor": 2
}
